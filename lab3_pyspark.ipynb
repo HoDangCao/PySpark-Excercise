{
  "cells": [
    {
      "cell_type": "markdown",
      "metadata": {
        "id": "tChWFAUf8CAg"
      },
      "source": [
        "# Part 0: Setting up"
      ]
    },
    {
      "cell_type": "markdown",
      "metadata": {
        "id": "867SO8F24Enh"
      },
      "source": [
        "## Install and start MongoDB"
      ]
    },
    {
      "cell_type": "code",
      "execution_count": null,
      "metadata": {
        "colab": {
          "base_uri": "https://localhost:8080/"
        },
        "id": "Pt4PEwbEl3RY",
        "outputId": "bc94f392-c6d9-4526-ae5b-d4939e127f76"
      },
      "outputs": [
        {
          "output_type": "stream",
          "name": "stdout",
          "text": [
            "The following additional packages will be installed:\n",
            "  caca-utils chafa fonts-droid-fallback fonts-noto-mono fonts-urw-base35\n",
            "  ghostscript gsfonts imagemagick imagemagick-6-common imagemagick-6.q16 jp2a\n",
            "  libchafa0 libdjvulibre-text libdjvulibre21 libfftw3-double3 libgs9\n",
            "  libgs9-common libid3tag0 libidn12 libijs-0.35 libimlib2 libjbig2dec0\n",
            "  libjxr-tools libjxr0 liblqr-1-0 libmagickcore-6.q16-6\n",
            "  libmagickcore-6.q16-6-extra libmagickwand-6.q16-6 libnetpbm10 libpci3\n",
            "  libsixel-bin libsixel1 libwmflite-0.2-7 netpbm pci.ids pciutils poppler-data\n",
            "  toilet toilet-fonts w3m w3m-img\n",
            "Suggested packages:\n",
            "  fonts-noto fonts-freefont-otf | fonts-freefont-ttf fonts-texgyre\n",
            "  ghostscript-x imagemagick-doc autotrace cups-bsd | lpr | lprng enscript gimp\n",
            "  gnuplot grads hp2xx html2ps libwmf-bin mplayer povray radiance sane-utils\n",
            "  texlive-base-bin transfig ufraw-batch libfftw3-bin libfftw3-dev inkscape\n",
            "  poppler-utils fonts-japanese-mincho | fonts-ipafont-mincho\n",
            "  fonts-japanese-gothic | fonts-ipafont-gothic fonts-arphic-ukai\n",
            "  fonts-arphic-uming fonts-nanum figlet cmigemo dict dict-wn dictd\n",
            "  mime-support w3m-el\n",
            "The following NEW packages will be installed:\n",
            "  caca-utils chafa fonts-droid-fallback fonts-noto-mono fonts-urw-base35\n",
            "  ghostscript gsfonts imagemagick imagemagick-6-common imagemagick-6.q16 jp2a\n",
            "  libchafa0 libdjvulibre-text libdjvulibre21 libfftw3-double3 libgs9\n",
            "  libgs9-common libid3tag0 libidn12 libijs-0.35 libimlib2 libjbig2dec0\n",
            "  libjxr-tools libjxr0 liblqr-1-0 libmagickcore-6.q16-6\n",
            "  libmagickcore-6.q16-6-extra libmagickwand-6.q16-6 libnetpbm10 libpci3\n",
            "  libsixel-bin libsixel1 libwmflite-0.2-7 neofetch netpbm pci.ids pciutils\n",
            "  poppler-data toilet toilet-fonts w3m w3m-img\n",
            "0 upgraded, 42 newly installed, 0 to remove and 15 not upgraded.\n",
            "Need to get 28.0 MB of archives.\n",
            "After this operation, 95.9 MB of additional disk space will be used.\n",
            "Extracting templates from packages: 100%\n",
            "Selecting previously unselected package fonts-droid-fallback.\n",
            "(Reading database ... 120500 files and directories currently installed.)\n",
            "Preparing to unpack .../00-fonts-droid-fallback_1%3a6.0.1r16-1.1build1_all.deb ...\n",
            "Unpacking fonts-droid-fallback (1:6.0.1r16-1.1build1) ...\n",
            "Selecting previously unselected package libfftw3-double3:amd64.\n",
            "Preparing to unpack .../01-libfftw3-double3_3.3.8-2ubuntu8_amd64.deb ...\n",
            "Unpacking libfftw3-double3:amd64 (3.3.8-2ubuntu8) ...\n",
            "Selecting previously unselected package liblqr-1-0:amd64.\n",
            "Preparing to unpack .../02-liblqr-1-0_0.4.2-2.1_amd64.deb ...\n",
            "Unpacking liblqr-1-0:amd64 (0.4.2-2.1) ...\n",
            "Selecting previously unselected package imagemagick-6-common.\n",
            "Preparing to unpack .../03-imagemagick-6-common_8%3a6.9.11.60+dfsg-1.3ubuntu0.22.04.3_all.deb ...\n",
            "Unpacking imagemagick-6-common (8:6.9.11.60+dfsg-1.3ubuntu0.22.04.3) ...\n",
            "Selecting previously unselected package libmagickcore-6.q16-6:amd64.\n",
            "Preparing to unpack .../04-libmagickcore-6.q16-6_8%3a6.9.11.60+dfsg-1.3ubuntu0.22.04.3_amd64.deb ...\n",
            "Unpacking libmagickcore-6.q16-6:amd64 (8:6.9.11.60+dfsg-1.3ubuntu0.22.04.3) ...\n",
            "Selecting previously unselected package libmagickwand-6.q16-6:amd64.\n",
            "Preparing to unpack .../05-libmagickwand-6.q16-6_8%3a6.9.11.60+dfsg-1.3ubuntu0.22.04.3_amd64.deb ...\n",
            "Unpacking libmagickwand-6.q16-6:amd64 (8:6.9.11.60+dfsg-1.3ubuntu0.22.04.3) ...\n",
            "Selecting previously unselected package poppler-data.\n",
            "Preparing to unpack .../06-poppler-data_0.4.11-1_all.deb ...\n",
            "Unpacking poppler-data (0.4.11-1) ...\n",
            "Selecting previously unselected package pci.ids.\n",
            "Preparing to unpack .../07-pci.ids_0.0~2022.01.22-1_all.deb ...\n",
            "Unpacking pci.ids (0.0~2022.01.22-1) ...\n",
            "Selecting previously unselected package libpci3:amd64.\n",
            "Preparing to unpack .../08-libpci3_1%3a3.7.0-6_amd64.deb ...\n",
            "Unpacking libpci3:amd64 (1:3.7.0-6) ...\n",
            "Selecting previously unselected package pciutils.\n",
            "Preparing to unpack .../09-pciutils_1%3a3.7.0-6_amd64.deb ...\n",
            "Unpacking pciutils (1:3.7.0-6) ...\n",
            "Selecting previously unselected package libid3tag0:amd64.\n",
            "Preparing to unpack .../10-libid3tag0_0.15.1b-14_amd64.deb ...\n",
            "Unpacking libid3tag0:amd64 (0.15.1b-14) ...\n",
            "Selecting previously unselected package libimlib2:amd64.\n",
            "Preparing to unpack .../11-libimlib2_1.7.4-1build1_amd64.deb ...\n",
            "Unpacking libimlib2:amd64 (1.7.4-1build1) ...\n",
            "Selecting previously unselected package caca-utils.\n",
            "Preparing to unpack .../12-caca-utils_0.99.beta19-2.2ubuntu4_amd64.deb ...\n",
            "Unpacking caca-utils (0.99.beta19-2.2ubuntu4) ...\n",
            "Selecting previously unselected package libchafa0:amd64.\n",
            "Preparing to unpack .../13-libchafa0_1.8.0-1_amd64.deb ...\n",
            "Unpacking libchafa0:amd64 (1.8.0-1) ...\n",
            "Selecting previously unselected package chafa.\n",
            "Preparing to unpack .../14-chafa_1.8.0-1_amd64.deb ...\n",
            "Unpacking chafa (1.8.0-1) ...\n",
            "Selecting previously unselected package fonts-noto-mono.\n",
            "Preparing to unpack .../15-fonts-noto-mono_20201225-1build1_all.deb ...\n",
            "Unpacking fonts-noto-mono (20201225-1build1) ...\n",
            "Selecting previously unselected package fonts-urw-base35.\n",
            "Preparing to unpack .../16-fonts-urw-base35_20200910-1_all.deb ...\n",
            "Unpacking fonts-urw-base35 (20200910-1) ...\n",
            "Selecting previously unselected package libgs9-common.\n",
            "Preparing to unpack .../17-libgs9-common_9.55.0~dfsg1-0ubuntu5.3_all.deb ...\n",
            "Unpacking libgs9-common (9.55.0~dfsg1-0ubuntu5.3) ...\n",
            "Selecting previously unselected package libidn12:amd64.\n",
            "Preparing to unpack .../18-libidn12_1.38-4ubuntu1_amd64.deb ...\n",
            "Unpacking libidn12:amd64 (1.38-4ubuntu1) ...\n",
            "Selecting previously unselected package libijs-0.35:amd64.\n",
            "Preparing to unpack .../19-libijs-0.35_0.35-15build2_amd64.deb ...\n",
            "Unpacking libijs-0.35:amd64 (0.35-15build2) ...\n",
            "Selecting previously unselected package libjbig2dec0:amd64.\n",
            "Preparing to unpack .../20-libjbig2dec0_0.19-3build2_amd64.deb ...\n",
            "Unpacking libjbig2dec0:amd64 (0.19-3build2) ...\n",
            "Selecting previously unselected package libgs9:amd64.\n",
            "Preparing to unpack .../21-libgs9_9.55.0~dfsg1-0ubuntu5.3_amd64.deb ...\n",
            "Unpacking libgs9:amd64 (9.55.0~dfsg1-0ubuntu5.3) ...\n",
            "Selecting previously unselected package ghostscript.\n",
            "Preparing to unpack .../22-ghostscript_9.55.0~dfsg1-0ubuntu5.3_amd64.deb ...\n",
            "Unpacking ghostscript (9.55.0~dfsg1-0ubuntu5.3) ...\n",
            "Selecting previously unselected package gsfonts.\n",
            "Preparing to unpack .../23-gsfonts_1%3a8.11+urwcyr1.0.7~pre44-4.5_all.deb ...\n",
            "Unpacking gsfonts (1:8.11+urwcyr1.0.7~pre44-4.5) ...\n",
            "Selecting previously unselected package imagemagick-6.q16.\n",
            "Preparing to unpack .../24-imagemagick-6.q16_8%3a6.9.11.60+dfsg-1.3ubuntu0.22.04.3_amd64.deb ...\n",
            "Unpacking imagemagick-6.q16 (8:6.9.11.60+dfsg-1.3ubuntu0.22.04.3) ...\n",
            "Selecting previously unselected package imagemagick.\n",
            "Preparing to unpack .../25-imagemagick_8%3a6.9.11.60+dfsg-1.3ubuntu0.22.04.3_amd64.deb ...\n",
            "Unpacking imagemagick (8:6.9.11.60+dfsg-1.3ubuntu0.22.04.3) ...\n",
            "Selecting previously unselected package jp2a.\n",
            "Preparing to unpack .../26-jp2a_1.1.1-1_amd64.deb ...\n",
            "Unpacking jp2a (1.1.1-1) ...\n",
            "Selecting previously unselected package libdjvulibre-text.\n",
            "Preparing to unpack .../27-libdjvulibre-text_3.5.28-2build2_all.deb ...\n",
            "Unpacking libdjvulibre-text (3.5.28-2build2) ...\n",
            "Selecting previously unselected package libdjvulibre21:amd64.\n",
            "Preparing to unpack .../28-libdjvulibre21_3.5.28-2build2_amd64.deb ...\n",
            "Unpacking libdjvulibre21:amd64 (3.5.28-2build2) ...\n",
            "Selecting previously unselected package libjxr0:amd64.\n",
            "Preparing to unpack .../29-libjxr0_1.2~git20170615.f752187-5_amd64.deb ...\n",
            "Unpacking libjxr0:amd64 (1.2~git20170615.f752187-5) ...\n",
            "Selecting previously unselected package libjxr-tools.\n",
            "Preparing to unpack .../30-libjxr-tools_1.2~git20170615.f752187-5_amd64.deb ...\n",
            "Unpacking libjxr-tools (1.2~git20170615.f752187-5) ...\n",
            "Selecting previously unselected package libwmflite-0.2-7:amd64.\n",
            "Preparing to unpack .../31-libwmflite-0.2-7_0.2.12-5ubuntu1_amd64.deb ...\n",
            "Unpacking libwmflite-0.2-7:amd64 (0.2.12-5ubuntu1) ...\n",
            "Selecting previously unselected package libmagickcore-6.q16-6-extra:amd64.\n",
            "Preparing to unpack .../32-libmagickcore-6.q16-6-extra_8%3a6.9.11.60+dfsg-1.3ubuntu0.22.04.3_amd64.deb ...\n",
            "Unpacking libmagickcore-6.q16-6-extra:amd64 (8:6.9.11.60+dfsg-1.3ubuntu0.22.04.3) ...\n",
            "Selecting previously unselected package libnetpbm10.\n",
            "Preparing to unpack .../33-libnetpbm10_2%3a10.0-15.4_amd64.deb ...\n",
            "Unpacking libnetpbm10 (2:10.0-15.4) ...\n",
            "Selecting previously unselected package neofetch.\n",
            "Preparing to unpack .../34-neofetch_7.1.0-3_all.deb ...\n",
            "Unpacking neofetch (7.1.0-3) ...\n",
            "Selecting previously unselected package netpbm.\n",
            "Preparing to unpack .../35-netpbm_2%3a10.0-15.4_amd64.deb ...\n",
            "Unpacking netpbm (2:10.0-15.4) ...\n",
            "Selecting previously unselected package toilet-fonts.\n",
            "Preparing to unpack .../36-toilet-fonts_0.3-1.4_all.deb ...\n",
            "Unpacking toilet-fonts (0.3-1.4) ...\n",
            "Selecting previously unselected package toilet.\n",
            "Preparing to unpack .../37-toilet_0.3-1.4_amd64.deb ...\n",
            "Unpacking toilet (0.3-1.4) ...\n",
            "Selecting previously unselected package w3m.\n",
            "Preparing to unpack .../38-w3m_0.5.3+git20210102-6ubuntu0.1_amd64.deb ...\n",
            "Unpacking w3m (0.5.3+git20210102-6ubuntu0.1) ...\n",
            "Selecting previously unselected package w3m-img.\n",
            "Preparing to unpack .../39-w3m-img_0.5.3+git20210102-6ubuntu0.1_amd64.deb ...\n",
            "Unpacking w3m-img (0.5.3+git20210102-6ubuntu0.1) ...\n",
            "Selecting previously unselected package libsixel1:amd64.\n",
            "Preparing to unpack .../40-libsixel1_1.10.3-3_amd64.deb ...\n",
            "Unpacking libsixel1:amd64 (1.10.3-3) ...\n",
            "Selecting previously unselected package libsixel-bin.\n",
            "Preparing to unpack .../41-libsixel-bin_1.10.3-3_amd64.deb ...\n",
            "Unpacking libsixel-bin (1.10.3-3) ...\n",
            "Setting up imagemagick-6-common (8:6.9.11.60+dfsg-1.3ubuntu0.22.04.3) ...\n",
            "Setting up pci.ids (0.0~2022.01.22-1) ...\n",
            "Setting up toilet-fonts (0.3-1.4) ...\n",
            "Setting up fonts-noto-mono (20201225-1build1) ...\n",
            "Setting up libwmflite-0.2-7:amd64 (0.2.12-5ubuntu1) ...\n",
            "Setting up toilet (0.3-1.4) ...\n",
            "update-alternatives: using /usr/bin/figlet-toilet to provide /usr/bin/figlet (figlet) in auto mode\n",
            "Setting up libijs-0.35:amd64 (0.35-15build2) ...\n",
            "Setting up libjxr0:amd64 (1.2~git20170615.f752187-5) ...\n",
            "Setting up jp2a (1.1.1-1) ...\n",
            "Setting up libnetpbm10 (2:10.0-15.4) ...\n",
            "Setting up fonts-urw-base35 (20200910-1) ...\n",
            "Setting up neofetch (7.1.0-3) ...\n",
            "Setting up poppler-data (0.4.11-1) ...\n",
            "Setting up libchafa0:amd64 (1.8.0-1) ...\n",
            "Setting up libid3tag0:amd64 (0.15.1b-14) ...\n",
            "Setting up w3m (0.5.3+git20210102-6ubuntu0.1) ...\n",
            "Setting up libjbig2dec0:amd64 (0.19-3build2) ...\n",
            "Setting up gsfonts (1:8.11+urwcyr1.0.7~pre44-4.5) ...\n",
            "Setting up libsixel1:amd64 (1.10.3-3) ...\n",
            "Setting up libidn12:amd64 (1.38-4ubuntu1) ...\n",
            "Setting up libimlib2:amd64 (1.7.4-1build1) ...\n",
            "Setting up netpbm (2:10.0-15.4) ...\n",
            "Setting up libfftw3-double3:amd64 (3.3.8-2ubuntu8) ...\n",
            "Setting up libpci3:amd64 (1:3.7.0-6) ...\n",
            "Setting up liblqr-1-0:amd64 (0.4.2-2.1) ...\n",
            "Setting up w3m-img (0.5.3+git20210102-6ubuntu0.1) ...\n",
            "Setting up fonts-droid-fallback (1:6.0.1r16-1.1build1) ...\n",
            "Setting up libdjvulibre-text (3.5.28-2build2) ...\n",
            "Setting up libgs9-common (9.55.0~dfsg1-0ubuntu5.3) ...\n",
            "Setting up libjxr-tools (1.2~git20170615.f752187-5) ...\n",
            "Setting up libgs9:amd64 (9.55.0~dfsg1-0ubuntu5.3) ...\n",
            "Setting up caca-utils (0.99.beta19-2.2ubuntu4) ...\n",
            "Setting up libdjvulibre21:amd64 (3.5.28-2build2) ...\n",
            "Setting up ghostscript (9.55.0~dfsg1-0ubuntu5.3) ...\n",
            "Setting up libsixel-bin (1.10.3-3) ...\n",
            "Setting up libmagickcore-6.q16-6:amd64 (8:6.9.11.60+dfsg-1.3ubuntu0.22.04.3) ...\n",
            "Setting up pciutils (1:3.7.0-6) ...\n",
            "Setting up libmagickwand-6.q16-6:amd64 (8:6.9.11.60+dfsg-1.3ubuntu0.22.04.3) ...\n",
            "Setting up libmagickcore-6.q16-6-extra:amd64 (8:6.9.11.60+dfsg-1.3ubuntu0.22.04.3) ...\n",
            "Setting up chafa (1.8.0-1) ...\n",
            "Setting up imagemagick-6.q16 (8:6.9.11.60+dfsg-1.3ubuntu0.22.04.3) ...\n",
            "update-alternatives: using /usr/bin/compare-im6.q16 to provide /usr/bin/compare (compare) in auto mode\n",
            "update-alternatives: using /usr/bin/compare-im6.q16 to provide /usr/bin/compare-im6 (compare-im6) in auto mode\n",
            "update-alternatives: using /usr/bin/animate-im6.q16 to provide /usr/bin/animate (animate) in auto mode\n",
            "update-alternatives: using /usr/bin/animate-im6.q16 to provide /usr/bin/animate-im6 (animate-im6) in auto mode\n",
            "update-alternatives: using /usr/bin/convert-im6.q16 to provide /usr/bin/convert (convert) in auto mode\n",
            "update-alternatives: using /usr/bin/convert-im6.q16 to provide /usr/bin/convert-im6 (convert-im6) in auto mode\n",
            "update-alternatives: using /usr/bin/composite-im6.q16 to provide /usr/bin/composite (composite) in auto mode\n",
            "update-alternatives: using /usr/bin/composite-im6.q16 to provide /usr/bin/composite-im6 (composite-im6) in auto mode\n",
            "update-alternatives: using /usr/bin/conjure-im6.q16 to provide /usr/bin/conjure (conjure) in auto mode\n",
            "update-alternatives: using /usr/bin/conjure-im6.q16 to provide /usr/bin/conjure-im6 (conjure-im6) in auto mode\n",
            "update-alternatives: using /usr/bin/import-im6.q16 to provide /usr/bin/import (import) in auto mode\n",
            "update-alternatives: using /usr/bin/import-im6.q16 to provide /usr/bin/import-im6 (import-im6) in auto mode\n",
            "update-alternatives: using /usr/bin/identify-im6.q16 to provide /usr/bin/identify (identify) in auto mode\n",
            "update-alternatives: using /usr/bin/identify-im6.q16 to provide /usr/bin/identify-im6 (identify-im6) in auto mode\n",
            "update-alternatives: using /usr/bin/stream-im6.q16 to provide /usr/bin/stream (stream) in auto mode\n",
            "update-alternatives: using /usr/bin/stream-im6.q16 to provide /usr/bin/stream-im6 (stream-im6) in auto mode\n",
            "update-alternatives: using /usr/bin/display-im6.q16 to provide /usr/bin/display (display) in auto mode\n",
            "update-alternatives: using /usr/bin/display-im6.q16 to provide /usr/bin/display-im6 (display-im6) in auto mode\n",
            "update-alternatives: using /usr/bin/montage-im6.q16 to provide /usr/bin/montage (montage) in auto mode\n",
            "update-alternatives: using /usr/bin/montage-im6.q16 to provide /usr/bin/montage-im6 (montage-im6) in auto mode\n",
            "update-alternatives: using /usr/bin/mogrify-im6.q16 to provide /usr/bin/mogrify (mogrify) in auto mode\n",
            "update-alternatives: using /usr/bin/mogrify-im6.q16 to provide /usr/bin/mogrify-im6 (mogrify-im6) in auto mode\n",
            "Setting up imagemagick (8:6.9.11.60+dfsg-1.3ubuntu0.22.04.3) ...\n",
            "Processing triggers for hicolor-icon-theme (0.17-2) ...\n",
            "Processing triggers for libc-bin (2.35-0ubuntu3.1) ...\n",
            "Processing triggers for man-db (2.10.2-1) ...\n",
            "Processing triggers for fontconfig (2.13.1-4.2ubuntu5) ...\n",
            "\u001b[?25l\u001b[?7l\u001b[0m\u001b[31m\u001b[1m            .-/+oossssoo+/-.\n",
            "        `:+ssssssssssssssssss+:`\n",
            "      -+ssssssssssssssssssyyssss+-\n",
            "    .ossssssssssssssssss\u001b[37m\u001b[0m\u001b[1mdMMMNy\u001b[0m\u001b[31m\u001b[1msssso.\n",
            "   /sssssssssss\u001b[37m\u001b[0m\u001b[1mhdmmNNmmyNMMMMh\u001b[0m\u001b[31m\u001b[1mssssss/\n",
            "  +sssssssss\u001b[37m\u001b[0m\u001b[1mhm\u001b[0m\u001b[31m\u001b[1myd\u001b[37m\u001b[0m\u001b[1mMMMMMMMNddddy\u001b[0m\u001b[31m\u001b[1mssssssss+\n",
            " /ssssssss\u001b[37m\u001b[0m\u001b[1mhNMMM\u001b[0m\u001b[31m\u001b[1myh\u001b[37m\u001b[0m\u001b[1mhyyyyhmNMMMNh\u001b[0m\u001b[31m\u001b[1mssssssss/\n",
            ".ssssssss\u001b[37m\u001b[0m\u001b[1mdMMMNh\u001b[0m\u001b[31m\u001b[1mssssssssss\u001b[37m\u001b[0m\u001b[1mhNMMMd\u001b[0m\u001b[31m\u001b[1mssssssss.\n",
            "+ssss\u001b[37m\u001b[0m\u001b[1mhhhyNMMNy\u001b[0m\u001b[31m\u001b[1mssssssssssss\u001b[37m\u001b[0m\u001b[1myNMMMy\u001b[0m\u001b[31m\u001b[1msssssss+\n",
            "oss\u001b[37m\u001b[0m\u001b[1myNMMMNyMMh\u001b[0m\u001b[31m\u001b[1mssssssssssssss\u001b[37m\u001b[0m\u001b[1mhmmmh\u001b[0m\u001b[31m\u001b[1mssssssso\n",
            "oss\u001b[37m\u001b[0m\u001b[1myNMMMNyMMh\u001b[0m\u001b[31m\u001b[1msssssssssssssshmmmh\u001b[0m\u001b[31m\u001b[1mssssssso\n",
            "+ssss\u001b[37m\u001b[0m\u001b[1mhhhyNMMNy\u001b[0m\u001b[31m\u001b[1mssssssssssss\u001b[37m\u001b[0m\u001b[1myNMMMy\u001b[0m\u001b[31m\u001b[1msssssss+\n",
            ".ssssssss\u001b[37m\u001b[0m\u001b[1mdMMMNh\u001b[0m\u001b[31m\u001b[1mssssssssss\u001b[37m\u001b[0m\u001b[1mhNMMMd\u001b[0m\u001b[31m\u001b[1mssssssss.\n",
            " /ssssssss\u001b[37m\u001b[0m\u001b[1mhNMMM\u001b[0m\u001b[31m\u001b[1myh\u001b[37m\u001b[0m\u001b[1mhyyyyhdNMMMNh\u001b[0m\u001b[31m\u001b[1mssssssss/\n",
            "  +sssssssss\u001b[37m\u001b[0m\u001b[1mdm\u001b[0m\u001b[31m\u001b[1myd\u001b[37m\u001b[0m\u001b[1mMMMMMMMMddddy\u001b[0m\u001b[31m\u001b[1mssssssss+\n",
            "   /sssssssssss\u001b[37m\u001b[0m\u001b[1mhdmNNNNmyNMMMMh\u001b[0m\u001b[31m\u001b[1mssssss/\n",
            "    .ossssssssssssssssss\u001b[37m\u001b[0m\u001b[1mdMMMNy\u001b[0m\u001b[31m\u001b[1msssso.\n",
            "      -+sssssssssssssssss\u001b[37m\u001b[0m\u001b[1myyy\u001b[0m\u001b[31m\u001b[1mssss+-\n",
            "        `:+ssssssssssssssssss+:`\n",
            "            .-/+oossssoo+/-.\u001b[0m\n",
            "\u001b[20A\u001b[9999999D\u001b[43C\u001b[0m\u001b[1m\u001b[31m\u001b[1mroot\u001b[0m@\u001b[31m\u001b[1m4720a4da9a77\u001b[0m \n",
            "\u001b[43C\u001b[0m-----------------\u001b[0m \n",
            "\u001b[43C\u001b[0m\u001b[31m\u001b[1mOS\u001b[0m\u001b[0m:\u001b[0m Ubuntu 22.04.2 LTS x86_64\u001b[0m \n",
            "\u001b[43C\u001b[0m\u001b[31m\u001b[1mHost\u001b[0m\u001b[0m:\u001b[0m Google Compute Engine\u001b[0m \n",
            "\u001b[43C\u001b[0m\u001b[31m\u001b[1mKernel\u001b[0m\u001b[0m:\u001b[0m 5.15.109+\u001b[0m \n",
            "\u001b[43C\u001b[0m\u001b[31m\u001b[1mUptime\u001b[0m\u001b[0m:\u001b[0m 1 min\u001b[0m \n",
            "\u001b[43C\u001b[0m\u001b[31m\u001b[1mPackages\u001b[0m\u001b[0m:\u001b[0m 1258 (dpkg)\u001b[0m \n",
            "\u001b[43C\u001b[0m\u001b[31m\u001b[1mShell\u001b[0m\u001b[0m:\u001b[0m bash 5.1.16\u001b[0m \n",
            "\u001b[43C\u001b[0m\u001b[31m\u001b[1mTerminal\u001b[0m\u001b[0m:\u001b[0m jupyter-noteboo\u001b[0m \n",
            "\u001b[43C\u001b[0m\u001b[31m\u001b[1mCPU\u001b[0m\u001b[0m:\u001b[0m Intel Xeon (2) @ 2.199GHz\u001b[0m \n",
            "\u001b[43C\u001b[0m\u001b[31m\u001b[1mMemory\u001b[0m\u001b[0m:\u001b[0m 666MiB / 12982MiB\u001b[0m \n",
            "\n",
            "\u001b[43C\u001b[30m\u001b[40m   \u001b[31m\u001b[41m   \u001b[32m\u001b[42m   \u001b[33m\u001b[43m   \u001b[34m\u001b[44m   \u001b[35m\u001b[45m   \u001b[36m\u001b[46m   \u001b[37m\u001b[47m   \u001b[m\n",
            "\u001b[43C\u001b[38;5;8m\u001b[48;5;8m   \u001b[38;5;9m\u001b[48;5;9m   \u001b[38;5;10m\u001b[48;5;10m   \u001b[38;5;11m\u001b[48;5;11m   \u001b[38;5;12m\u001b[48;5;12m   \u001b[38;5;13m\u001b[48;5;13m   \u001b[38;5;14m\u001b[48;5;14m   \u001b[38;5;15m\u001b[48;5;15m   \u001b[m\n",
            "\n",
            "\n",
            "\n",
            "\n",
            "\n",
            "\n",
            "\n",
            "\u001b[?25h\u001b[?7h"
          ]
        }
      ],
      "source": [
        "!apt install -qq neofetch\n",
        "!neofetch"
      ]
    },
    {
      "cell_type": "code",
      "execution_count": null,
      "metadata": {
        "colab": {
          "base_uri": "https://localhost:8080/"
        },
        "id": "dFLhlH9gvIsy",
        "outputId": "8d251a33-b27d-4298-aab5-e9e6d7079a0a"
      },
      "outputs": [
        {
          "output_type": "stream",
          "name": "stdout",
          "text": [
            "Reading package lists... Done\n",
            "Building dependency tree... Done\n",
            "Reading state information... Done\n",
            "mongodb-org is already the newest version (6.0.8).\n",
            "0 upgraded, 0 newly installed, 0 to remove and 32 not upgraded.\n"
          ]
        }
      ],
      "source": [
        "!sudo apt-get install -y mongodb-org"
      ]
    },
    {
      "cell_type": "markdown",
      "metadata": {
        "id": "DH1GZsQmqATt"
      },
      "source": [
        "Due to the fact that Colab has upgrade their environment to 22.04, some environment is [not work at all](https://medium.com/google-colab/colab-updated-to-ubuntu-22-04-lts-709a91555b3c). You should using your own MongoDB server to do this lab on local if you can not resolve the environment conflict."
      ]
    },
    {
      "cell_type": "code",
      "execution_count": null,
      "metadata": {
        "colab": {
          "base_uri": "https://localhost:8080/"
        },
        "id": "R2VqfUHQljX7",
        "outputId": "c4e35006-baee-4563-e41d-5e1e6a34b144"
      },
      "outputs": [
        {
          "output_type": "stream",
          "name": "stdout",
          "text": [
            "Package mongodb is not available, but is referred to by another package.\n",
            "This may mean that the package is missing, has been obsoleted, or\n",
            "is only available from another source\n",
            "\n",
            "\u001b[1;31mE: \u001b[0mPackage 'mongodb' has no installation candidate\u001b[0m\n",
            "mongodb: unrecognized service\n"
          ]
        }
      ],
      "source": [
        "!apt install -qq mongodb\n",
        "!service mongodb start"
      ]
    },
    {
      "cell_type": "markdown",
      "metadata": {
        "id": "7dph1tTf4HkU"
      },
      "source": [
        "## Download dataset and push to our mongodb"
      ]
    },
    {
      "cell_type": "code",
      "execution_count": null,
      "metadata": {
        "id": "cy-r-AQ2pZM0",
        "colab": {
          "base_uri": "https://localhost:8080/"
        },
        "outputId": "d550e206-bdcb-46a1-fb04-ba21d4042338"
      },
      "outputs": [
        {
          "output_type": "stream",
          "name": "stdout",
          "text": [
            "Selecting previously unselected package brotli.\n",
            "(Reading database ... 120511 files and directories currently installed.)\n",
            "Preparing to unpack .../brotli_1.0.9-2build6_amd64.deb ...\n",
            "Unpacking brotli (1.0.9-2build6) ...\n",
            "Setting up brotli (1.0.9-2build6) ...\n",
            "Processing triggers for man-db (2.10.2-1) ...\n"
          ]
        }
      ],
      "source": [
        "# It's already the 21st century and people are very impatient, so they use Brotli for text and Zstd for everything else.\n",
        "# Reference: https://github.com/google/brotli\n",
        "!apt-get install -qq brotli"
      ]
    },
    {
      "cell_type": "code",
      "execution_count": null,
      "metadata": {
        "id": "XNT5v0BkpMWa"
      },
      "outputs": [],
      "source": [
        "!wget -q https://csc14118.github.io/thuoc_raw.json.br\n",
        "!wget -q https://csc14118.github.io/gia_ke_khai_raw.json.br\n",
        "!wget -q https://csc14118.github.io/movies_lang.json.br"
      ]
    },
    {
      "cell_type": "code",
      "execution_count": null,
      "metadata": {
        "id": "qqVJXO4TpQDZ"
      },
      "outputs": [],
      "source": [
        "!brotli -d *.br"
      ]
    },
    {
      "cell_type": "code",
      "execution_count": null,
      "metadata": {
        "id": "p2AGMuFp6x2u",
        "colab": {
          "base_uri": "https://localhost:8080/"
        },
        "outputId": "c42d6a08-9044-4aa6-bcf7-047d61868c7e"
      },
      "outputs": [
        {
          "output_type": "stream",
          "name": "stdout",
          "text": [
            "\u001b[2K     \u001b[90m━━━━━━━━━━━━━━━━━━━━━━━━━━━━━━━━━━━━━━━\u001b[0m \u001b[32m603.6/603.6 kB\u001b[0m \u001b[31m4.1 MB/s\u001b[0m eta \u001b[36m0:00:00\u001b[0m\n",
            "\u001b[2K     \u001b[90m━━━━━━━━━━━━━━━━━━━━━━━━━━━━━━━━━━━━━━━\u001b[0m \u001b[32m300.4/300.4 kB\u001b[0m \u001b[31m7.6 MB/s\u001b[0m eta \u001b[36m0:00:00\u001b[0m\n",
            "\u001b[?25h"
          ]
        }
      ],
      "source": [
        "!pip install -q pymongo"
      ]
    },
    {
      "cell_type": "code",
      "execution_count": null,
      "metadata": {
        "id": "4lGAVCVCpz_9"
      },
      "outputs": [],
      "source": [
        "import json\n",
        "from pymongo import MongoClient\n",
        "\n",
        "client = MongoClient()\n",
        "\n",
        "# Creation of the new database\n",
        "db = client['input_data']\n",
        "\n",
        "collection_name = [\"gia_ke_khai_raw\", \"movies_lang\", \"thuoc_raw\"]\n",
        "\n",
        "# Push our data to mongodb\n",
        "for data in collection_name:\n",
        "    collection = db[data]\n",
        "    chunks = json.load(open(f'{data}.json'))\n",
        "    collection.insert_many(chunks)\n",
        "\n",
        "# Create a dummy database to test\n",
        "db = client['dummy']\n",
        "db['chunks'].insert_many([{'Banh xeo': 'Rat ngon'},{'Banh bao': 'Cung ngon'}])\n",
        "\n",
        "client.list_database_names()"
      ]
    },
    {
      "cell_type": "markdown",
      "metadata": {
        "id": "BPgvKHYi46Zh"
      },
      "source": [
        "## Install pyspark"
      ]
    },
    {
      "cell_type": "code",
      "execution_count": null,
      "metadata": {
        "id": "3BQOC48fkpMX"
      },
      "outputs": [],
      "source": [
        "!apt-get install openjdk-8-jdk-headless -qq > /dev/null\n",
        "!wget -q \"https://archive.apache.org/dist/spark/spark-3.1.1/spark-3.1.1-bin-hadoop2.7.tgz\"\n",
        "!tar xf spark-3.1.1-bin-hadoop2.7.tgz\n",
        "!pip install -q findspark"
      ]
    },
    {
      "cell_type": "code",
      "execution_count": null,
      "metadata": {
        "id": "nJFxkwtAkt3U",
        "colab": {
          "base_uri": "https://localhost:8080/",
          "height": 35
        },
        "outputId": "ea3a0b9a-c21e-4bf8-829d-0960c2fe7dae"
      },
      "outputs": [
        {
          "output_type": "execute_result",
          "data": {
            "text/plain": [
              "'spark-3.1.1-bin-hadoop2.7'"
            ],
            "application/vnd.google.colaboratory.intrinsic+json": {
              "type": "string"
            }
          },
          "metadata": {},
          "execution_count": 6
        }
      ],
      "source": [
        "import os\n",
        "os.environ[\"JAVA_HOME\"] = \"/usr/lib/jvm/java-8-openjdk-amd64\"\n",
        "os.environ[\"SPARK_HOME\"] = \"spark-3.1.1-bin-hadoop2.7\"\n",
        "import findspark\n",
        "findspark.init()\n",
        "findspark.find()"
      ]
    },
    {
      "cell_type": "code",
      "execution_count": null,
      "metadata": {
        "id": "qgjKoGjDzZgu",
        "colab": {
          "base_uri": "https://localhost:8080/"
        },
        "outputId": "bff5544b-5472-49a1-e1f2-fb1a608666d1"
      },
      "outputs": [
        {
          "output_type": "stream",
          "name": "stdout",
          "text": [
            "3.1.1\n"
          ]
        }
      ],
      "source": [
        "import pyspark\n",
        "print(pyspark.__version__)"
      ]
    },
    {
      "cell_type": "markdown",
      "metadata": {
        "id": "N4x3MtDq494s"
      },
      "source": [
        "## Dirty trick to connect spark to our mongodb\n",
        "\n",
        "In industry environment, please read the docs carefully to seting up these complicated things."
      ]
    },
    {
      "cell_type": "code",
      "execution_count": null,
      "metadata": {
        "id": "J3kZd3CZNIY-",
        "colab": {
          "base_uri": "https://localhost:8080/"
        },
        "outputId": "248ba0a9-964a-4356-bd52-32b487d246e5"
      },
      "outputs": [
        {
          "output_type": "stream",
          "name": "stdout",
          "text": [
            "rm: cannot remove 'spark-3.1.1-bin-hadoop2.7/jars/mongo*.jar': No such file or directory\n",
            "rm: cannot remove 'spark-3.1.1-bin-hadoop2.7/jars/bson*.jar': No such file or directory\n"
          ]
        }
      ],
      "source": [
        "!rm $SPARK_HOME/jars/mongo*.jar\n",
        "!rm $SPARK_HOME/jars/bson*.jar"
      ]
    },
    {
      "cell_type": "code",
      "execution_count": null,
      "metadata": {
        "id": "wPavC4NBR0fn",
        "colab": {
          "base_uri": "https://localhost:8080/"
        },
        "outputId": "9fee964a-2569-4260-bf7c-a80900f21289"
      },
      "outputs": [
        {
          "output_type": "stream",
          "name": "stdout",
          "text": [
            "--2023-08-10 00:53:27--  https://repo1.maven.org/maven2/org/mongodb/spark/mongo-spark-connector_2.12/10.1.1/mongo-spark-connector_2.12-10.1.1.jar\n",
            "Resolving repo1.maven.org (repo1.maven.org)... 199.232.192.209, 199.232.196.209, 2a04:4e42:4c::209, ...\n",
            "Connecting to repo1.maven.org (repo1.maven.org)|199.232.192.209|:443... connected.\n",
            "HTTP request sent, awaiting response... 200 OK\n",
            "Length: 156368 (153K) [application/java-archive]\n",
            "Saving to: ‘mongo-spark-connector_2.12-10.1.1.jar’\n",
            "\n",
            "\r          mongo-spa   0%[                    ]       0  --.-KB/s               \rmongo-spark-connect 100%[===================>] 152.70K  --.-KB/s    in 0.02s   \n",
            "\n",
            "2023-08-10 00:53:27 (6.30 MB/s) - ‘mongo-spark-connector_2.12-10.1.1.jar’ saved [156368/156368]\n",
            "\n",
            "--2023-08-10 00:53:27--  https://repo1.maven.org/maven2/org/mongodb/mongodb-driver/3.12.13/mongodb-driver-3.12.13.jar\n",
            "Resolving repo1.maven.org (repo1.maven.org)... 199.232.192.209, 199.232.196.209, 2a04:4e42:4c::209, ...\n",
            "Connecting to repo1.maven.org (repo1.maven.org)|199.232.192.209|:443... connected.\n",
            "HTTP request sent, awaiting response... 200 OK\n",
            "Length: 375474 (367K) [application/java-archive]\n",
            "Saving to: ‘mongodb-driver-3.12.13.jar’\n",
            "\n",
            "mongodb-driver-3.12 100%[===================>] 366.67K  --.-KB/s    in 0.03s   \n",
            "\n",
            "2023-08-10 00:53:27 (10.5 MB/s) - ‘mongodb-driver-3.12.13.jar’ saved [375474/375474]\n",
            "\n",
            "--2023-08-10 00:53:28--  https://repo1.maven.org/maven2/org/mongodb/mongo-java-driver/3.12.13/mongo-java-driver-3.12.13.jar\n",
            "Resolving repo1.maven.org (repo1.maven.org)... 199.232.192.209, 199.232.196.209, 2a04:4e42:4c::209, ...\n",
            "Connecting to repo1.maven.org (repo1.maven.org)|199.232.192.209|:443... connected.\n",
            "HTTP request sent, awaiting response... 200 OK\n",
            "Length: 2314879 (2.2M) [application/java-archive]\n",
            "Saving to: ‘mongo-java-driver-3.12.13.jar’\n",
            "\n",
            "mongo-java-driver-3 100%[===================>]   2.21M  --.-KB/s    in 0.06s   \n",
            "\n",
            "2023-08-10 00:53:28 (34.9 MB/s) - ‘mongo-java-driver-3.12.13.jar’ saved [2314879/2314879]\n",
            "\n",
            "--2023-08-10 00:53:28--  https://repo1.maven.org/maven2/org/mongodb/bson/4.9.1/bson-4.9.1.jar\n",
            "Resolving repo1.maven.org (repo1.maven.org)... 199.232.192.209, 199.232.196.209, 2a04:4e42:4c::209, ...\n",
            "Connecting to repo1.maven.org (repo1.maven.org)|199.232.192.209|:443... connected.\n",
            "HTTP request sent, awaiting response... 200 OK\n",
            "Length: 506403 (495K) [application/java-archive]\n",
            "Saving to: ‘bson-4.9.1.jar’\n",
            "\n",
            "bson-4.9.1.jar      100%[===================>] 494.53K  --.-KB/s    in 0.04s   \n",
            "\n",
            "2023-08-10 00:53:28 (13.2 MB/s) - ‘bson-4.9.1.jar’ saved [506403/506403]\n",
            "\n"
          ]
        }
      ],
      "source": [
        "!cd $SPARK_HOME/jars && wget https://repo1.maven.org/maven2/org/mongodb/spark/mongo-spark-connector_2.12/10.1.1/mongo-spark-connector_2.12-10.1.1.jar\n",
        "!cd $SPARK_HOME/jars && wget https://repo1.maven.org/maven2/org/mongodb/mongodb-driver/3.12.13/mongodb-driver-3.12.13.jar\n",
        "!cd $SPARK_HOME/jars && wget https://repo1.maven.org/maven2/org/mongodb/mongo-java-driver/3.12.13/mongo-java-driver-3.12.13.jar\n",
        "!cd $SPARK_HOME/jars && wget https://repo1.maven.org/maven2/org/mongodb/bson/4.9.1/bson-4.9.1.jar"
      ]
    },
    {
      "cell_type": "code",
      "execution_count": null,
      "metadata": {
        "id": "E9Z415K4fRED",
        "colab": {
          "base_uri": "https://localhost:8080/"
        },
        "outputId": "b03bcc43-df1c-44e4-c92f-10b1fe62bfc7"
      },
      "outputs": [
        {
          "output_type": "stream",
          "name": "stdout",
          "text": [
            "Welcome to\n",
            "      ____              __\n",
            "     / __/__  ___ _____/ /__\n",
            "    _\\ \\/ _ \\/ _ `/ __/  '_/\n",
            "   /__ / .__/\\_,_/_/ /_/\\_\\   version 3.1.1\n",
            "      /_/\n",
            "\n",
            "Using Python version 3.10.12 (main, Jun 11 2023 05:26:28)\n",
            "Spark context Web UI available at http://740d1c094e54:4040\n",
            "Spark context available as 'sc' (master = local[*], app id = local-1691628818198).\n",
            "SparkSession available as 'spark'.\n"
          ]
        }
      ],
      "source": [
        "from pyspark.shell import spark\n",
        "from pyspark import SparkContext,SparkConf\n",
        "\n",
        "# uri = \"mongodb://localhost:27017/input_data\"\n",
        "\n",
        "from pyspark.sql import SparkSession\n",
        "\n",
        "# spark_jb = \"org.mongodb.spark:mongo-spark-connector_2.12:10.1.1\"\n",
        "# my_spark = SparkSession \\\n",
        "#     .builder \\\n",
        "#     .config(\"spark.executor.memory\", \"1g\") \\\n",
        "#     .appName(\"csc14112\") \\\n",
        "#     .config(\"spark.mongodb.read.connection.uri\", uri) \\\n",
        "#     .config(\"spark.mongodb.write.connection.uri\", uri) \\\n",
        "#     .getOrCreate()"
      ]
    },
    {
      "cell_type": "code",
      "source": [
        "my_spark = SparkSession \\\n",
        "    .builder \\\n",
        "    .appName(\"csc14112\") \\\n",
        "    .getOrCreate()"
      ],
      "metadata": {
        "id": "8qBmUcdwEsfS"
      },
      "execution_count": null,
      "outputs": []
    },
    {
      "cell_type": "code",
      "execution_count": null,
      "metadata": {
        "id": "VIcRV6NEfdM5"
      },
      "outputs": [],
      "source": [
        "# # Test read data from our mongo db\n",
        "# p = my_spark.read.format(\"mongodb\").option(\"database\",\"dummy\").option(\"collection\", \"chunk\").load()\n",
        "# p.printSchema()"
      ]
    },
    {
      "cell_type": "code",
      "source": [
        "p = my_spark.read.option('header', 'true').json('movies_lang.json')\n",
        "p.printSchema()"
      ],
      "metadata": {
        "colab": {
          "base_uri": "https://localhost:8080/"
        },
        "id": "DBhUisiEE__b",
        "outputId": "377cdf23-c707-45a9-a221-b41cba40ee20"
      },
      "execution_count": null,
      "outputs": [
        {
          "output_type": "stream",
          "name": "stdout",
          "text": [
            "root\n",
            " |-- _id: string (nullable = true)\n",
            " |-- actors: array (nullable = true)\n",
            " |    |-- element: struct (containsNull = true)\n",
            " |    |    |-- _id: string (nullable = true)\n",
            " |    |    |-- birth_date: string (nullable = true)\n",
            " |    |    |-- first_name: string (nullable = true)\n",
            " |    |    |-- last_name: string (nullable = true)\n",
            " |    |    |-- role: string (nullable = true)\n",
            " |-- country: string (nullable = true)\n",
            " |-- director: struct (nullable = true)\n",
            " |    |-- _id: string (nullable = true)\n",
            " |    |-- birth_date: string (nullable = true)\n",
            " |    |-- first_name: string (nullable = true)\n",
            " |    |-- last_name: string (nullable = true)\n",
            " |-- genre: string (nullable = true)\n",
            " |-- languages: array (nullable = true)\n",
            " |    |-- element: string (containsNull = true)\n",
            " |-- title: string (nullable = true)\n",
            " |-- year: long (nullable = true)\n",
            "\n"
          ]
        }
      ]
    },
    {
      "cell_type": "code",
      "execution_count": null,
      "metadata": {
        "id": "7QDbkF7Wpl4f",
        "colab": {
          "base_uri": "https://localhost:8080/"
        },
        "outputId": "5ed79f0f-36b7-4ca0-c2cd-752b745b2e6e"
      },
      "outputs": [
        {
          "output_type": "stream",
          "name": "stdout",
          "text": [
            "+--------+--------------------+-------+--------------------+---------------+--------------------+--------------------+----+\n",
            "|     _id|              actors|country|            director|          genre|           languages|               title|year|\n",
            "+--------+--------------------+-------+--------------------+---------------+--------------------+--------------------+----+\n",
            "| movie:1|[{artist:15, 1908...|     DE|{artist:3, 1899, ...|          drama|                [el]|             Vertigo|1958|\n",
            "| movie:2|[{artist:5, 1949,...|    USA|{artist:4, 1937, ...|Science-fiction|    [el, en, it, es]|               Alien|1979|\n",
            "| movie:3|[{artist:109, 197...|    USA|{artist:6, 1954, ...|          drama|[el, de, it, en, ...|             Titanic|1997|\n",
            "| movie:4|                  []|     FR|{artist:9, 1932, ...|          drama|[en, it, el, fr, de]|           Sacrifice|1986|\n",
            "| movie:5|[{artist:11, 1954...|    USA|{artist:10, 1946,...|         Action|[es, fr, en, it, ...|          Volte/Face|1997|\n",
            "| movie:6|[{artist:14, 1964...|    USA|{artist:13, 1958,...|    Fantastique|            [it, de]|       Sleepy Hollow|1999|\n",
            "| movie:7|[{artist:18, 1959...|    USA|{artist:17, 1965,...|        Comédie|    [en, de, it, fr]|     American Beauty|1999|\n",
            "| movie:8|[{artist:20, 1930...|    USA|{artist:20, 1930,...|        Western|[en, es, it, el, de]|         Impitoyable|1992|\n",
            "| movie:9|[{artist:23, 1964...|    USA|{artist:4, 1937, ...|          drama|            [en, de]|           Gladiator|2000|\n",
            "|movie:10|[{artist:24, 1942...|    USA|{artist:4, 1937, ...|         Action|[es, el, it, fr, ...|        Blade Runner|1982|\n",
            "|movie:11|[{artist:27, 1955...|    USA|{artist:26, 1951,...|         Action|        [de, es, fr]|    Piège de cristal|1988|\n",
            "|movie:12|[{artist:27, 1955...|    USA|{artist:28, 1959,...|         Action|                [en]|58 minutes pour v...|1990|\n",
            "|movie:13|[{artist:30, 1943...|     FR|{artist:29, 1925,...|          drama|[fr, el, en, it, de]|            Van Gogh|1990|\n",
            "|movie:14|[{artist:18, 1959...|    USA|{artist:31, 1962,...|          crime|[en, it, fr, de, ...|               Seven|1995|\n",
            "|movie:15|[{artist:27, 1955...|    USA|{artist:33, 1940,...|Science-fiction|        [de, es, en]|      Twelve Monkeys|1995|\n",
            "|movie:16|[{artist:35, 1930...|     FR|{artist:34, 1943,...|          crime|                [el]|Le last_name de l...|1986|\n",
            "|movie:17|[{artist:11, 1954...|    USA|{artist:37, 1963,...|         Action|[en, de, es, fr, el]|        Pulp fiction|1994|\n",
            "|movie:18|[{artist:42, 1972...|    USA|{artist:41, 1958,...|        Comédie|[el, it, es, en, fr]|    Mary à tout prix|1998|\n",
            "|movie:19|[{artist:44, 1947...|    USA|{artist:6, 1954, ...|Science-fiction|        [fr, de, es]|          Terminator|1984|\n",
            "|movie:20|[{artist:46, 1932...|     FR|{artist:45, 1946,...|        Horreur|[en, de, it, es, el]| Les dents de la mer|1975|\n",
            "+--------+--------------------+-------+--------------------+---------------+--------------------+--------------------+----+\n",
            "only showing top 20 rows\n",
            "\n"
          ]
        }
      ],
      "source": [
        "p.show()"
      ]
    },
    {
      "cell_type": "markdown",
      "metadata": {
        "id": "OOBcV-zg8IPv"
      },
      "source": [
        "# Part 1: Introduction to PySpark"
      ]
    },
    {
      "cell_type": "markdown",
      "metadata": {
        "id": "LejimkJO8u6A"
      },
      "source": [
        "\n",
        "In this lab assignment, we will work with a movie dataset loaded into our MongoDB at `input_data.movies_lang`. We will use PySpark RDD and DataFrame to perform the following tasks:"
      ]
    },
    {
      "cell_type": "code",
      "execution_count": null,
      "metadata": {
        "id": "29SbDUgzQksL"
      },
      "outputs": [],
      "source": [
        "# YOUR CODE HERE\n",
        "# Read data from mongodb\n",
        "\n",
        "raise NotImplementedError"
      ]
    },
    {
      "cell_type": "markdown",
      "metadata": {
        "id": "mjQyMcL59FwB"
      },
      "source": [
        "### (a) Count the number of movies by country. Sort by count in decreasing order."
      ]
    },
    {
      "cell_type": "code",
      "execution_count": null,
      "metadata": {
        "id": "qOKzEl44nj6V",
        "colab": {
          "base_uri": "https://localhost:8080/"
        },
        "outputId": "dcade697-535f-4c05-e3ca-303586739171"
      },
      "outputs": [
        {
          "output_type": "stream",
          "name": "stdout",
          "text": [
            "+-------+-----+\n",
            "|country|count|\n",
            "+-------+-----+\n",
            "|    USA|   67|\n",
            "|     FR|   17|\n",
            "|     IT|    2|\n",
            "|     DE|    1|\n",
            "|     JP|    1|\n",
            "+-------+-----+\n",
            "\n"
          ]
        }
      ],
      "source": [
        "# YOUR CODE HERE\n",
        "from pyspark.sql.functions import desc, col, concat_ws, length, max\n",
        "p.groupBy('country').count().sort(desc('count')).show()"
      ]
    },
    {
      "cell_type": "markdown",
      "metadata": {
        "id": "Gi9OiL_K8610"
      },
      "source": [
        "### (b) Return the titles of the movies produced in France."
      ]
    },
    {
      "cell_type": "code",
      "execution_count": null,
      "metadata": {
        "id": "nuIk85yf-5EX",
        "colab": {
          "base_uri": "https://localhost:8080/"
        },
        "outputId": "337643a9-a6d2-4ba4-a1e9-73093964e68a"
      },
      "outputs": [
        {
          "output_type": "stream",
          "name": "stdout",
          "text": [
            "+-----------------------------------+\n",
            "|title                              |\n",
            "+-----------------------------------+\n",
            "|Sacrifice                          |\n",
            "|Van Gogh                           |\n",
            "|Le last_name de la rose            |\n",
            "|Les dents de la mer                |\n",
            "|Le gendarme et les extra-terrestres|\n",
            "|Les bronzés font du ski            |\n",
            "|Shining                            |\n",
            "|Jeanne d'Arc                       |\n",
            "|Le cinquième élément               |\n",
            "|Léon                               |\n",
            "|Nikita                             |\n",
            "|Le grand bleu                      |\n",
            "|De bruit et de fureur              |\n",
            "|Les quatre cents coups             |\n",
            "|Le dernier métro                   |\n",
            "|Un prophète                        |\n",
            "|Nous trois ou rien                 |\n",
            "+-----------------------------------+\n",
            "\n"
          ]
        }
      ],
      "source": [
        "# YOUR CODE HERE\n",
        "p.filter(p[\"country\"] == \"FR\").select(\"title\").show(truncate = False)"
      ]
    },
    {
      "cell_type": "markdown",
      "metadata": {
        "id": "RWIrwllI-9LI"
      },
      "source": [
        "### (c) Return the title of the movies of which Sofia Coppola is one of the actresses."
      ]
    },
    {
      "cell_type": "code",
      "execution_count": null,
      "metadata": {
        "id": "XznCrQxy-858",
        "colab": {
          "base_uri": "https://localhost:8080/"
        },
        "outputId": "53ceb178-baee-474b-fa88-eb821ab2ca9f"
      },
      "outputs": [
        {
          "output_type": "stream",
          "name": "stdout",
          "text": [
            "+--------------+\n",
            "|title         |\n",
            "+--------------+\n",
            "|Le parrain III|\n",
            "+--------------+\n",
            "\n"
          ]
        }
      ],
      "source": [
        "# YOUR CODE HERE\n",
        "from pyspark.sql import functions as f\n",
        "# explode 'actors' column to get all actors\n",
        "inv = p.withColumn(\"actor\", f.explode(p.actors))\n",
        "# concat first name and last name for full name of actor\n",
        "inv = inv.withColumn('full_name', concat_ws(' ', inv.actor.first_name, inv.actor.last_name))\n",
        "# filter by full name 'Sofia Coppala'\n",
        "inv.filter(inv.full_name == 'Sofia Coppola').select('title').show(truncate = False)"
      ]
    },
    {
      "cell_type": "markdown",
      "metadata": {
        "id": "rqtvCzPV_Con"
      },
      "source": [
        "### (d) Return the names and birth dates of the directors of movies produced in France.\n"
      ]
    },
    {
      "cell_type": "code",
      "execution_count": null,
      "metadata": {
        "id": "ZBzAdOj8_Cb3",
        "colab": {
          "base_uri": "https://localhost:8080/"
        },
        "outputId": "bdbfdbfa-1e74-4189-ba6e-83139ff65c2f"
      },
      "outputs": [
        {
          "output_type": "stream",
          "name": "stdout",
          "text": [
            "+-------------------+----------+\n",
            "|          full_name|birth_date|\n",
            "+-------------------+----------+\n",
            "|         Luc Besson|      1959|\n",
            "|Jean-Jacques Annaud|      1943|\n",
            "|     Maurice Pialat|      1925|\n",
            "|    Patrice Leconte|      1947|\n",
            "|     Tabib  Kheiron|      null|\n",
            "|   Andrei Tarkovski|      1932|\n",
            "|  François Truffaut|      null|\n",
            "|       Jean Girault|      1924|\n",
            "|    Jacques Audiard|      1952|\n",
            "|     Claude Chabrol|      1930|\n",
            "|    Stanley Kubrick|      1928|\n",
            "|   Steven Spielberg|      1946|\n",
            "+-------------------+----------+\n",
            "\n"
          ]
        }
      ],
      "source": [
        "# YOUR CODE HERE\n",
        "# get first name, last name and birth date of the directors of movies having \"FR\" country\n",
        "di = p.filter(p[\"country\"] == \"FR\").select(\"director.first_name\", \"director.last_name\", \"director.birth_date\")\n",
        "# concatenate first name and last name into fulll name; remove dupliacted rows\n",
        "di.select(concat_ws(' ', di.first_name, di.last_name).alias('full_name'), di.birth_date).distinct().show()"
      ]
    },
    {
      "cell_type": "markdown",
      "metadata": {
        "id": "jtYnldOV_MXj"
      },
      "source": [
        "### (e) Return the average number of actors in a film.\n"
      ]
    },
    {
      "cell_type": "code",
      "execution_count": null,
      "metadata": {
        "id": "RQmY486U_PaW"
      },
      "outputs": [],
      "source": [
        "# YOUR CODE HERE\n",
        "\n",
        "raise NotImplementedError"
      ]
    },
    {
      "cell_type": "markdown",
      "metadata": {
        "id": "vbZmOOAz_RDj"
      },
      "source": [
        "### (f) Return the name of the actor that acted in the most movies."
      ]
    },
    {
      "cell_type": "code",
      "execution_count": null,
      "metadata": {
        "id": "V6ZKk9Ts_StS",
        "colab": {
          "base_uri": "https://localhost:8080/"
        },
        "outputId": "3b491ddf-dab3-4e2d-ad0a-bb60c18d75e1"
      },
      "outputs": [
        {
          "output_type": "stream",
          "name": "stdout",
          "text": [
            "+------------+\n",
            "|   full_name|\n",
            "+------------+\n",
            "|Bruce Willis|\n",
            "+------------+\n",
            "\n"
          ]
        }
      ],
      "source": [
        "# YOUR CODE HERE\n",
        "# count the number of movies of actors\n",
        "num_movie_actor = inv.select('full_name').groupBy('full_name').count()\n",
        "# find the max number\n",
        "max_movies = num_movie_actor.select(max('count')).collect()[0]['max(count)']\n",
        "# list out all actors\n",
        "num_movie_actor.filter(num_movie_actor['count'] == max_movies).select('full_name').show()"
      ]
    },
    {
      "cell_type": "markdown",
      "metadata": {
        "id": "1p8qOmwE8MU8"
      },
      "source": [
        "# Part 2: Real-world Data Manipulation"
      ]
    },
    {
      "cell_type": "markdown",
      "metadata": {
        "id": "6Xjjk5Sg_xuO"
      },
      "source": [
        "In this part of the lab, we will work with two collections in our MongoDB: `gia_ke_khai_raw` and `thuoc_raw` loaded at `input_data.gia_ke_khai_raw` and `input_data.thuoc_raw` respectively. We will use PySpark RDD and DataFrame to perform the following tasks:"
      ]
    },
    {
      "cell_type": "markdown",
      "metadata": {
        "id": "QJXKtUUkHDLn"
      },
      "source": [
        "### (a)  Read the datasets into a DataFrame and print out the schema and the number of records."
      ]
    },
    {
      "cell_type": "code",
      "execution_count": null,
      "metadata": {
        "id": "BsEKB1yk_o7d",
        "colab": {
          "base_uri": "https://localhost:8080/"
        },
        "outputId": "1a2cd696-be11-4b42-d5a8-18654b302458"
      },
      "outputs": [
        {
          "output_type": "stream",
          "name": "stdout",
          "text": [
            "root\n",
            " |-- doanhNghiepDk: string (nullable = true)\n",
            " |-- doanhNghiepSx: string (nullable = true)\n",
            " |-- dongGoi: string (nullable = true)\n",
            " |-- dvt: string (nullable = true)\n",
            " |-- giaBan: string (nullable = true)\n",
            " |-- hoatChat: string (nullable = true)\n",
            " |-- id: string (nullable = true)\n",
            " |-- image: string (nullable = true)\n",
            " |-- ngayBaoCao: string (nullable = true)\n",
            " |-- ngayVanBan: string (nullable = true)\n",
            " |-- nongDo: string (nullable = true)\n",
            " |-- sdk: string (nullable = true)\n",
            " |-- soVanBan: string (nullable = true)\n",
            " |-- stt: string (nullable = true)\n",
            " |-- tenThuoc: string (nullable = true)\n",
            "\n"
          ]
        },
        {
          "output_type": "execute_result",
          "data": {
            "text/plain": [
              "62197"
            ]
          },
          "metadata": {},
          "execution_count": 121
        }
      ],
      "source": [
        "# YOUR CODE HERE\n",
        "gkk = my_spark.read.option('header', 'true').json('gia_ke_khai_raw.json')\n",
        "gkk.printSchema()\n",
        "gkk.count()"
      ]
    },
    {
      "cell_type": "code",
      "source": [
        "th1 = my_spark.read.option('header', 'true').json('thuoc_raw.json')\n",
        "# th.printSchema()\n",
        "# th.count()"
      ],
      "metadata": {
        "id": "Ukdw5_p4VPSc"
      },
      "execution_count": null,
      "outputs": []
    },
    {
      "cell_type": "markdown",
      "metadata": {
        "id": "KrwAxI--bzks"
      },
      "source": [
        "### (b) Show all records in the `thuoc_raw` collection that have the same active pharmaceutical ingredient (API) in their `hoatChat` field as their medicine name.\n",
        "\n",
        "\n",
        "Notes: In the context of medication, API stands for Active Pharmaceutical Ingredient, which is the biologically active component in a drug that produces the intended therapeutic effect. In other words, it is the chemical substance that gives a medicine its medicinal properties."
      ]
    },
    {
      "cell_type": "code",
      "execution_count": null,
      "metadata": {
        "id": "myaTwNj8byW0"
      },
      "outputs": [],
      "source": [
        "# YOUR CODE HERE"
      ]
    },
    {
      "cell_type": "markdown",
      "metadata": {
        "id": "9e0N9KtvIIS4"
      },
      "source": [
        "### (c) Create a new DataFrame from the `thuoc_raw` collection that splits the API in the `hoatChat` field into multiple rows. For example, \"paracetamol\" is the API in \"Paracetamol 500 mg,\" and \"amoxicillin\" is the API in various medications such as \"Amogentine 500mg/125mg,\" \"Augbactam 1g/200mg,\" and \"Viamomentin.\" The resulting DataFrame should have two columns: `hoatChat` and `thuocTuongUng` as a list. After processing the data, write it back to our MongoDB at `output_data.thuocthaythe`."
      ]
    },
    {
      "cell_type": "code",
      "source": [
        "# YOUR CODE HERE\n",
        "from pyspark.sql.functions import regexp_replace"
      ],
      "metadata": {
        "id": "MjAt-8WZ8nkJ"
      },
      "execution_count": null,
      "outputs": []
    },
    {
      "cell_type": "code",
      "source": [
        "th1.select('hoatChat', 'tenThuoc').filter(th1.hoatChat.contains('gồm')).show(truncate = False)"
      ],
      "metadata": {
        "colab": {
          "base_uri": "https://localhost:8080/"
        },
        "id": "Qd3SEfWrZfXn",
        "outputId": "2e2af086-db1a-42d8-8bc6-1722d9841f38"
      },
      "execution_count": null,
      "outputs": [
        {
          "output_type": "stream",
          "name": "stdout",
          "text": [
            "+---------------------------------------------------------------------------------------------------------------------------------------------------------------------------------------------------------------------------------------------------------------------------------------------------------------------------------------------------------------------------------------------------+--------------------------------------------+\n",
            "|hoatChat                                                                                                                                                                                                                                                                                                                                                                                           |tenThuoc                                    |\n",
            "+---------------------------------------------------------------------------------------------------------------------------------------------------------------------------------------------------------------------------------------------------------------------------------------------------------------------------------------------------------------------------------------------------+--------------------------------------------+\n",
            "|Calcium 1000mg (bao gồm calci gluconolactat và calci carbonat), vitamin D3 880IU                                                                                                                                                                                                                                                                                                                   |Calcium Vitamin D3 Stada                    |\n",
            "|Mỗi viên chứa 300mg cao khô hỗn hợp gồm: Táo nhân 0,8g; Tâm sen 0,8g; Thảo quyết minh 0,3g; Đăng tâm thảo 0,1g                                                                                                                                                                                                                                                                                     |An thần                                     |\n",
            "|Mỗi viên chứa: 180mg cao khô hỗn hợp gồm Đương quy 0,12g; Sinh địa 0,12g; Đảng sâm 0,17g; Trần bì 0,09g; Bạch thược 0,17g; Xuyên khung 0,12g; Phục linh 0,12g; Bạch truật 0,17g; Cam thảo 0,09g; Hương phụ 0,17g                                                                                                                                                                                   |Phụ huyết khang                             |\n",
            "|Mỗi viên chứa: 150mg cao khô hỗn hợp gồm Cát cánh 0,12g; Tử uyển 0,24g; Bách bộ 0,36g; Hạnh nhân 0,24g; Cam thảo 0,12g; Trần bì 0,24g; Kinh giới 0,24g                                                                                                                                                                                                                                             |Cảm cúm- ho Yba                             |\n",
            "|Hy thiêm ; Thương nhĩ tử ; Dây đau xương ; Thổ phục linh ; Hà thủ ô đỏ chế ; Thiên niên kiện ; Huyết giác ; Bột mịn dược liệu gồm: Hà thủ ô đỏ chế ; Thổ phục linh ; Hy thiêm                                                                                                                                                                                                                      |Rheumapain- F                               |\n",
            "|Hỗn hợp Probiotic (gồm Lactobacillus acidophilus, Bifidobacterium longum, Lactobacillus rhamnosus)                                                                                                                                                                                                                                                                                                 |Lengaza                                     |\n",
            "|Mỗi viên chứa: Cao khô dược liệu 260mg (tương ứng Sinh địa 400mg; Mạch môn 133,3mg; Thiên môn đông 133,3mg; Táo nhân 133,3mg; Bá tử nhân 133,3mg; Huyền sâm 66,7mg; Viễn chí 66,7mg; Ngũ vị tử 66,7mg; Đảng sâm 53,3mg; Đương quy 53,3mg; Đan sâm 46,7mg; Phục thần 46,7mg; Cát cánh 26,7mg; Bột mịn dược liệu gồm Đương quy 80mg; Đảng sâm 80mg; Cát cánh 40mg; Đan sâm 20mg; Phục thần 20mg      |An thần bổ tâm-F                            |\n",
            "|Mỗi viên chứa: Cao khô dược liệu 190mg (tương đương Hoàng kỳ 733mg; Cam thảo 327mg; Bạch truật 250mg; Trần bì 250mg; Thăng ma 250mg; Sài hồ 250mg; Đương quy 195mg; Nhân sâm 195mg; Đại táo 167mg; Gừng tươi 83mg; Bột mịn dược liệu gồm Hoàng kỳ 100mg; Cam thảo 90mg; Đương quy 55mg; Nhân sâm 55mg                                                                                              |Bổ trung ích khí-F                          |\n",
            "|Mỗi viên chứa: Cao khô dược liệu 150mg (tương đương Kim ngân 284mg; Liên kiều 284mg; Cát cánh 240mg; Đạm đậu xị 200mg; Ngưu bàng tử 180mg; Kinh giới 160mg; Đạm trúc diệp 160mg; Cam thảo 140mg; Bạc hà 24mg; Bột mịn dược liệu gồm Kim ngân 116mg; Liên kiều 116mg; Ngưu bàng tử 60mg; Cam thảo 60mg                                                                                              |Ngân kiều giải độc-F                        |\n",
            "|Mỗi viên chứa: Cao khô dược liệu 243,3mg (tương đương Thục địa 400mg; Sơn thù 200mg; Trạch tả 150mg; Mẫu đơn bì 150mg; Câu kỷ tử 100mg; Hoài sơn 80mg; Phục linh 70mg; Cúc hoa 43,3mg); Bột mịn dược liệu gồm Hoài sơn 120mg; Phục linh 80mg; Cúc hoa 56,7mg                                                                                                                                       |Sáng mắt-F                                  |\n",
            "|Mỗi viên chứa: Cao khô dược liệu 340mg (tương đương Sài đất 500mg; Kinh giới 500mg; Thương nhĩ tử 480mg; Phòng phong 375mg; Đại hoàng 375mg; Thổ phục linh 290mg; Liên kiều 125mg; Hoàng liên 125mg; Kim ngân 120mg; Bạch chỉ 75mg; Cam thảo 25mg); Bột mịn dược liệu gồm: Thổ phục linh 85mg; Kim ngân 30mg; Bạch chỉ 25mg; Thương nhĩ tử 20mg                                                    |Thanh nhiệt tiêu độc-F                      |\n",
            "|Mỗi ống chứa 1,7g dung dịch gồm: Menthol 850mg; Camphor 102mg; Tinh dầu khuynh diệp 85mg                                                                                                                                                                                                                                                                                                           |Axe Brand Inhaler (Ống hít mũi hiệu cây búa)|\n",
            "|Cao khô dược liệu gồm: Thục địa; Hoài sơn; Sơn thù; Trạch tả; Phục linh; Mẫu đơn bì; Quế; Phụ tử chế; Bột mịn dược liệu gồm: Hoài sơn; Sơn thù; Mẫu đơn bì; Phụ tử chế; Quế                                                                                                                                                                                                                        |Bát vị- F                                   |\n",
            "|Cao khô dược liệu : Chỉ thực; Hoàng liên; Bán hạ; Mạch nha; Hậu phác; Bạch linh; Nhân sâm; Bạch truật; Cam thảo; Can khương; Bột mịn dược liệu gồm: Nhân sâm; Bạch truật; Hoàng liên; Bạch linh                                                                                                                                                                                                    |Chỉ thực tiêu bĩ- F                         |\n",
            "|Cao khô dược liệu tương đương: Hoàng liên; Mộc hương; Ngô thù du; Bột mịn dược liệu gồm: Hoàng liên                                                                                                                                                                                                                                                                                                |Đại tràng- F                                |\n",
            "|Cao khô dược liệu tương đương Tang ký sinh; Địa hoàng; Bạch thược; Đỗ trọng; Đảng sâm; Phục linh; Ngưu tất; Tần giao; Quế nhục; Phòng phong; Xuyên khung; Độc hoạt; Tế tân; Cam thảo; Đương quy; Bột mịn dược liệu gồm: Bạch thược; Độc hoạt; Đương quy; Ngưu tất                                                                                                                                  |Độc hoạt tang ký sinh                       |\n",
            "|Mỗi viên chứa: Cao khô dược liệu 300mg tương đương: Bạch truật 248mg; Viễn chí 248mg; Long nhãn 248mg; Bạch linh 181,3mg; Đương quy 174,7mg; Đảng sâm 124mg; Toan táo nhân 107,3mg; Hoàng kỳ 87,3mg; Mộc hương 63mg; Đại táo 63mg; Cam thảo 55,4mg; Bột mịn dược liệu gồm: Đương quy 73,3mg; Bạch linh 66,7mg; Hoàng kỳ 36,7mg; Toan táo nhân 16,7mg; Cam thảo 6,6mg                               |Quy tỳ                                      |\n",
            "|Cao khô dược liệu 267mg tương đương: Sài hồ; Bạch truật; Gừng tươi; Bạch linh; Đương quy; Bạch thược; Cam thảo; Bạc hà; Bột mịn dược liệu gồm: Bạch linh; Đương quy; Bạch thược; Cam thảo                                                                                                                                                                                                          |Tiêu dao                                    |\n",
            "|Cao đặc hỗn hợp (tương ứng với 2968mg dược liệu gồm: Đương quy 312 mg, xuyên khung 312 mg, bạch thược 312 mg, thục địa 312 mg, phòng đảng sâm 312 mg, bạch truật 312 mg, phục linh 312 mg, cam thảo 160 mg, hoàng kỳ 312 mg, quế nhục 312 mg) 296,8 mg                                                                                                                                             |Vifusinhluc                                 |\n",
            "|Mỗi viên chứa: Cao khô dược liệu  260mg; (tương đương Sinh địa 400mg; Mạch môn 133,3mg; Thiên môn đông 133,3mg; Táo nhân 133,3mg; Bá tử nhân 133,3mg; Huyền sâm 66,7mg; Viễn chí 66,7mg; Ngũ vị tử 66,7mg; Đảng sâm 53,3mg; Đương quy 53,3mg; Đan sâm 46,7mg; Phục thần 46,7mg; Cát cánh 26,7mg); Bột mịn dược liệu gồm: Đương quy 80mg; Dảng sâm 80mg; Cát cánh 40mg; Đan sâm 20mg; Phục thần 20mg|An thần bổ tâm                              |\n",
            "+---------------------------------------------------------------------------------------------------------------------------------------------------------------------------------------------------------------------------------------------------------------------------------------------------------------------------------------------------------------------------------------------------+--------------------------------------------+\n",
            "only showing top 20 rows\n",
            "\n"
          ]
        }
      ]
    },
    {
      "cell_type": "code",
      "source": [
        "# Replace bad data\n",
        "th = th1.withColumn('hoatChat', regexp_replace('hoatChat', '\\n', ' '))\n",
        "th = th.withColumn('hoatChat', regexp_replace('hoatChat', '\\[[^]]*\\]|\\([^)]*\\)', ''))\n",
        "th = th.withColumn('hoatChat', regexp_replace('hoatChat', '\\(.*', ''))\n",
        "th = th.withColumn('hoatChat', regexp_replace('hoatChat', '[)]', ''))\n",
        "n = '\\s*[#\\d]+\\s*[,.\\/]*\\s*[\\d]*\\s*'\n",
        "t = '[ ,;./]+'\n",
        "th = th.withColumn('hoatChat', regexp_replace('hoatChat', 'f\"{n}mg|{n}mcg|{n}iu|{n}ui|{n}g|{n}ml|{n}l|{n}kg|{n}mm|{n}m|{n}cm2|{n}\\%|{n}đơn vị usp|{n}miu|{n}m iu|{n}lọ|{n}tuýp|{n}bơm tiêm|{n}que|{n}viên|{n}ống{t}\"', ''))\n",
        "th = th.withColumn('hoatChat', regexp_replace('hoatChat', '\\d+:\\d+', ''))\n",
        "th = th.withColumn('hoatChat', regexp_replace('hoatChat', '.*:', ''))\n",
        "th = th.withColumn('hoatChat', regexp_replace('hoatChat', '\\s*/', ''))\n",
        "th = th.withColumn('hoatChat', regexp_replace('hoatChat', '(tương đương|tương ứng|dưới dạng|dạng|gồm)', ''))\n",
        "th = th.withColumn('hoatChat', regexp_replace('hoatChat', '\\.\\.\\.|--|…|-', ''))\n"
      ],
      "metadata": {
        "id": "ZrzQrL978HNn"
      },
      "execution_count": null,
      "outputs": []
    },
    {
      "cell_type": "code",
      "source": [
        "th.select('hoatChat', 'tenThuoc').filter(th.hoatChat.contains(' ')).sort(desc('hoatChat')).show(truncate = False)"
      ],
      "metadata": {
        "id": "mfwDVT6Vh99i"
      },
      "execution_count": null,
      "outputs": []
    },
    {
      "cell_type": "code",
      "execution_count": null,
      "metadata": {
        "id": "BQzlRdrKag1A",
        "colab": {
          "base_uri": "https://localhost:8080/"
        },
        "outputId": "5320d842-3aa0-4cd8-c666-63b4817d9387"
      },
      "outputs": [
        {
          "output_type": "stream",
          "name": "stdout",
          "text": [
            "+--------------------+--------------------+\n",
            "|            hoatChat|       thuocTuongUng|\n",
            "+--------------------+--------------------+\n",
            "|       & các Vitamin|      [Silycardus-F]|\n",
            "|        . Vitamin B1|          [Geromino]|\n",
            "|        . Vitamin D3|            [Padeex]|\n",
            "|        . vitamin B5|           [Cadi BC]|\n",
            "|                  .3|[Hydrogen peroxyd...|\n",
            "|                 000|            [Hes 6%]|\n",
            "|01 hệ phân phối t...|[Absolox (Đóng gó...|\n",
            "|                 075|            [Rejina]|\n",
            "|                   1|[Capilusa, Pectol...|\n",
            "|          1 bơm tiêm|[Orgalutran (Đóng...|\n",
            "|           1 que cấy|          [Implanon]|\n",
            "|              1 tuýp|         [Betacylic]|\n",
            "|1 ống  chứa Ascor...|          [Ascorneo]|\n",
            "|10hydroxy2decenoi...|[Topiderm (SXNQ: ...|\n",
            "|17 viên nén màu v...|            [Qlaira]|\n",
            "|      17 β estradiol|   [Oestrogel 0.06%]|\n",
            "|                  1]|[Prospan lozenges...|\n",
            "|                  1ọ|     [Cefotaxime 1g]|\n",
            "|                   2|[Rinzup Lozenges ...|\n",
            "|2 viên nén không ...|            [Qlaira]|\n",
            "+--------------------+--------------------+\n",
            "only showing top 20 rows\n",
            "\n"
          ]
        }
      ],
      "source": [
        "a = th.select('hoatChat','tenThuoc')\n",
        "a = a.select('hoatChat','tenThuoc').withColumn(\"hoatChat\", f.explode(f.split(f.col(\"hoatChat\"), '\\s*[,;]\\s*')))\n",
        "from pyspark.sql.functions import trim\n",
        "a = a.withColumn(\"hoatChat\", trim(a.hoatChat))\n",
        "# Replace bad data\n",
        "# a = a.withColumn('hoatChat', regexp_replace('hoatChat', '\\s*[,.\\/]+\\s*', ''))\n",
        "# a = a.withColumn('hoatChat', regexp_replace('hoatChat', '\\s*[#\\d]+\\s*[\\d]*\\s*', ''))\n",
        "a = a.select('hoatChat','tenThuoc').filter((a.hoatChat != '') & (a.hoatChat != '.'))\n",
        "# a.sort(desc('hoatChat')).show(truncate = False)\n",
        "ttt = a.groupBy('hoatChat').agg(f.collect_list('tenThuoc').alias('thuocTuongUng'))\n",
        "ttt.sort(('hoatChat')).show()"
      ]
    },
    {
      "cell_type": "code",
      "source": [
        "# ttt = a.groupBy('hoatChat').agg(f.collect_list('tenThuoc').alias('thuocTuongUng'))\n",
        "# ttt.sort(('hoatChat')).show()"
      ],
      "metadata": {
        "id": "bAWh2wW0cuk4"
      },
      "execution_count": null,
      "outputs": []
    },
    {
      "cell_type": "code",
      "source": [
        "ttt.filter(ttt.hoatChat.contains('ích mẫu')).show(truncate = False)"
      ],
      "metadata": {
        "colab": {
          "base_uri": "https://localhost:8080/"
        },
        "id": "5HaYQ4ZCAuQI",
        "outputId": "5f72cceb-a30d-4788-eaeb-33e2d03cca9e"
      },
      "execution_count": null,
      "outputs": [
        {
          "output_type": "stream",
          "name": "stdout",
          "text": [
            "+---------------+------------------------------------------------------------------------------------------------------------------------------------------------------------------------------------------+\n",
            "|hoatChat       |thuocTuongUng                                                                                                                                                                             |\n",
            "+---------------+------------------------------------------------------------------------------------------------------------------------------------------------------------------------------------------+\n",
            "|cao đặc ích mẫu|[Hoàn điều kinh bổ huyết, Tibidine, Ích mẫu hoàn]                                                                                                                                         |\n",
            "|ích mẫu        |[ích mẫu, ích mẫu, ích mẫu, Bạch đái hoàn Xuân quang, Viên nang ích mẫu, Bổ huyết điều kinh, Viên ích mẫu OP.CIM, Hoạt huyết Thephaco, Viên nang nguyệt quý, Cao khô ích mẫu, ích mẫu TW3]|\n",
            "|Cao đặc ích mẫu|[Cao đặc ích mẫu, Ích mẫu, Hoàn Điều kinh bổ huyết, Cao đặc ích mẫu]                                                                                                                      |\n",
            "|Cao ích mẫu    |[Doladi, Cao ích mẫu, Bổ huyết điều kinh - HT, A.T ích mẫu điều kinh, A.T Ichmau]                                                                                                         |\n",
            "|Cao khô ích mẫu|[Ích mẫu]                                                                                                                                                                                 |\n",
            "+---------------+------------------------------------------------------------------------------------------------------------------------------------------------------------------------------------------+\n",
            "\n"
          ]
        }
      ]
    },
    {
      "cell_type": "code",
      "source": [
        "from google.colab import drive\n",
        "drive.mount('/content/drive')"
      ],
      "metadata": {
        "colab": {
          "base_uri": "https://localhost:8080/"
        },
        "id": "w-LSL0eFBAfS",
        "outputId": "93cdb0e4-495b-4f3a-94a6-07e94f581f83"
      },
      "execution_count": null,
      "outputs": [
        {
          "output_type": "stream",
          "name": "stdout",
          "text": [
            "Mounted at /content/drive\n"
          ]
        }
      ]
    },
    {
      "cell_type": "code",
      "source": [
        "client = MongoClient()\n",
        "dbo = client['output_data']\n",
        "collection = dbo[\"thuocthaythe\"]\n",
        "collection.insert_many(ttt)"
      ],
      "metadata": {
        "id": "fbR4JBtVeUyD"
      },
      "execution_count": null,
      "outputs": []
    },
    {
      "cell_type": "markdown",
      "metadata": {
        "id": "sQ00j4TuHosd"
      },
      "source": [
        "### (d) Create new DataFrame from two collections mentioned above that contains  `tenThuoc`, `hoatChat`, `dongGoi`, `dvt` and `giaBan`. After process the data, write it back to our mongodb at `output_data.giathuoc`."
      ]
    },
    {
      "cell_type": "code",
      "execution_count": null,
      "metadata": {
        "id": "O8YNrN4lAZa5",
        "colab": {
          "base_uri": "https://localhost:8080/"
        },
        "outputId": "2f5068ec-aede-4f11-b8db-a6ca8409d9ee"
      },
      "outputs": [
        {
          "output_type": "stream",
          "name": "stdout",
          "text": [
            "+-----------+-----------------------+----------------------------------------------------------------------------------------------------------------------------------------------------------------------------+------------------------------------------------------+----+------+\n",
            "|sdk        |tenThuoc               |hoatChat                                                                                                                                                                    |dongGoi                                               |dvt |giaBan|\n",
            "+-----------+-----------------------+----------------------------------------------------------------------------------------------------------------------------------------------------------------------------+------------------------------------------------------+----+------+\n",
            "|VD-31422-18|Rejina                 |Mỗi 15 gam mỡ chứa: Allantoin 0,075g; Ethyl aminobenzoate 0,3g; Hydrocortisone acetat 0,075                                                                                 |Hộp 1 tuýp 15 gam                                     |Hộp |58500 |\n",
            "|VD-32499-19|Agilodin               |Loratadin                                                                                                                                                                   |Hộp 3 vỉ, 6 vỉ, 10 vỉ x 10 viên                       |Viên|1160  |\n",
            "|VN-14171-11|Intaxel 30mg/5ml       |Paclitaxel                                                                                                                                                                  |Hộp 1 lọ thủy tinh 5ml chứa 30mg Paclitaxel           |Lọ  |400000|\n",
            "|VD-15518-11|Griseofulvin 500mg     |Griseofulvin 500mg                                                                                                                                                          |hộp 2 vỉ x 10 viên                                    |viên|1426  |\n",
            "|VD-11370-10|Alaxan                 |Paracetamol 325 mg, Ibuprofen 200 mg                                                                                                                                        |Hộp 25 vỉ x 4 viên                                    |Viên|986   |\n",
            "|VD-15090-11|Hoạt huyết dưỡng não   |Cao bạch quả, cao đinh lăng                                                                                                                                                 |null                                                  |viên|600   |\n",
            "|VD-12443-10|Dexamethason 4mg       |Dexamethason natri phosphat 4,373mg (tương đương với 4mg Dexamethason phosphat)                                                                                             |null                                                  |ống |1310  |\n",
            "|VD-16335-12|Busmocalm              |Hyoscin butylbromid 10mg                                                                                                                                                    |Hộp 10 vỉ x 10 viên bao đường                         |Viên|1750  |\n",
            "|VD-11033-10|Zasinat 125            |Cefuroxim acetil tương đương 125mg Cefuroxim                                                                                                                                |Hộp 12 gói x 3,5g                                     |Gói |8820  |\n",
            "|VD-13316-10|Agintidin 400          |Cimetidin 400mg                                                                                                                                                             |null                                                  |Viên|700   |\n",
            "|VD-12768-10|Agirovastin 10         |Rosuvastatin 10mg (dưới dạng Rosuvastatin calci)                                                                                                                            |null                                                  |Viên|8000  |\n",
            "|VD-22168-15|Khang Minh thanh huyết |Cao khô dược liệu 145mg tương đương: Kim ngân hoa  300 mg; Bồ công anh  300 mg; Nhân trần tía 300 mg; Nghệ  200 mg; Thương nhĩ tử  150 mg; Sinh địa  150 mg; Cam thảo  50 mg|Lọ 60 viên nang; Hộp 10 vỉ x 10 viên                  |Viên|1650  |\n",
            "|VD-14855-11|Alphachymotrypsin éloge|Alphachymotrypsin 4,2mg                                                                                                                                                     |Vỉ 10 viên; Hộp 2 vỉ                                  |viên|1770  |\n",
            "|VD-21576-14|Solmux Broncho         |Salbutamol (dưới dạng Salbutamol sulfat); Carbocistein                                                                                                                      |Hộp 1 chai 60ml                                       |chai|28475 |\n",
            "|VD-24988-16|Doropycin 3 MIU        |Spiramycin                                                                                                                                                                  |Hộp 2 vỉ, 10 vỉ x 5 viên; chai 100 viên, chai 150 viên|Viên|5000  |\n",
            "|VN-11986-11|Amiplex Tablet         |Casein hydrolysate                                                                                                                                                          |Hộp 3 vỉ hoặc 9 vỉ hoặc 10 vỉ x 10 viên               |Viên|4142  |\n",
            "|VN-13295-11|Amox-sul               |Amoxicillin sodium, sulbactam sodium                                                                                                                                        |Hộp 1 lọ + 1 ống dung môi 4ml                         |Lọ  |122469|\n",
            "|VN-10082-10|Bamifen                |Baclofen                                                                                                                                                                    |Hộp 6 vỉ x 10 viên                                    |Hộp |183883|\n",
            "|VN-15220-12|Esomir                 |Esomeprazole natri                                                                                                                                                          |Hộp 1 lọ bột + 1 ống nước pha tiêm                    |Lọ  |67130 |\n",
            "|VN-15118-12|Ginamin Tablets 80mg   |Ginkgo biloba extract                                                                                                                                                       |hộp 6 vỉ x 10 viên                                    |Viên|2600  |\n",
            "+-----------+-----------------------+----------------------------------------------------------------------------------------------------------------------------------------------------------------------------+------------------------------------------------------+----+------+\n",
            "only showing top 20 rows\n",
            "\n"
          ]
        }
      ],
      "source": [
        "# YOUR CODE HERE\n",
        "gt = gkk.join(th, th.soDangKy == gkk.sdk).select(gkk.sdk, th.tenThuoc, th.hoatChat, gkk.dongGoi, gkk.dvt, gkk.giaBan).distinct()\n",
        "gt.show(truncate = False)\n"
      ]
    },
    {
      "cell_type": "code",
      "source": [
        "collection = dbo[\"giathuoc\"]\n",
        "collection.insert_many(gt)"
      ],
      "metadata": {
        "id": "86w4pgMlfMfI"
      },
      "execution_count": null,
      "outputs": []
    },
    {
      "cell_type": "code",
      "source": [
        "# gkk.show(5,truncate = False)"
      ],
      "metadata": {
        "colab": {
          "base_uri": "https://localhost:8080/"
        },
        "id": "4N-hdd2rnTY1",
        "outputId": "c20e8a64-3aa5-4d9a-f577-701e7c5a42e8"
      },
      "execution_count": null,
      "outputs": [
        {
          "output_type": "stream",
          "name": "stdout",
          "text": [
            "+------------------------------------+-------------+---------------------------------------+----+------+--------+------------------------+-----+----------+----------+------+-----------+--------+----+--------+\n",
            "|doanhNghiepDk                       |doanhNghiepSx|dongGoi                                |dvt |giaBan|hoatChat|id                      |image|ngayBaoCao|ngayVanBan|nongDo|sdk        |soVanBan|stt |tenThuoc|\n",
            "+------------------------------------+-------------+---------------------------------------+----+------+--------+------------------------+-----+----------+----------+------+-----------+--------+----+--------+\n",
            "|Công ty cổ phần dược phẩm Đạt Vi Phú|null         |Hộp 6 vỉ x 10 viên; hộp 10 vỉ x 10 viên|Viên|3000  |null    |5d4947f46f6a36432da7e2cb|null |26/03/2019|null      |null  |VD-31633-19|null    |null|null    |\n",
            "|Công ty cổ phần dược phẩm Đạt Vi Phú|null         |Hộp 2 vỉ x 7 viên                      |Viên|450000|null    |5d4947f46f6a36432da7e2cc|null |26/03/2019|null      |null  |VD-30908-18|null    |null|null    |\n",
            "|Công ty cổ phần dược phẩm Đạt Vi Phú|null         |Hộp 6 vỉ x 10 viên                     |Viên|6000  |null    |5d4947f46f6a36432da7e2cd|null |26/03/2019|null      |null  |VD-31634-19|null    |null|null    |\n",
            "|Công ty cổ phần dược phẩm Đạt Vi Phú|null         |Hộp 100 viên                           |Viên|800   |null    |5d4947f46f6a36432da7e2ce|null |26/03/2019|null      |null  |VD-28717-18|null    |null|null    |\n",
            "|Công ty TNHH dược phẩm USA - NIC    |null         |Hộp 6 vỉ x 10 viên                     |Viên|4000  |null    |5d4947f46f6a36432da7e2cf|null |27/03/2019|null      |null  |VD-32382-19|null    |null|null    |\n",
            "+------------------------------------+-------------+---------------------------------------+----+------+--------+------------------------+-----+----------+----------+------+-----------+--------+----+--------+\n",
            "only showing top 5 rows\n",
            "\n"
          ]
        }
      ]
    },
    {
      "cell_type": "code",
      "source": [
        "# print(gkk.count())\n",
        "# gkk.select('sdk').distinct().count()"
      ],
      "metadata": {
        "colab": {
          "base_uri": "https://localhost:8080/"
        },
        "id": "tZ8A1VYogBPl",
        "outputId": "df97a306-265a-433b-97fc-afa0cb6e83d6"
      },
      "execution_count": null,
      "outputs": [
        {
          "output_type": "stream",
          "name": "stdout",
          "text": [
            "62197\n"
          ]
        },
        {
          "output_type": "execute_result",
          "data": {
            "text/plain": [
              "39967"
            ]
          },
          "metadata": {},
          "execution_count": 108
        }
      ]
    },
    {
      "cell_type": "code",
      "source": [
        "# th.show(5,truncate = False)"
      ],
      "metadata": {
        "colab": {
          "base_uri": "https://localhost:8080/"
        },
        "id": "PiqvQ17wflXj",
        "outputId": "5a833569-88b4-4720-e3ca-44a27c6221cd"
      },
      "execution_count": null,
      "outputs": [
        {
          "output_type": "stream",
          "name": "stdout",
          "text": [
            "+------+----+-------------------------------------------------+-------------------------------------------------+------------+-----------------------------------------+-----------------------------------------+---------------------------------------------+-----------+---------+-------+----------------------------------------+--------------+----------------+-----------+------+------+------+---------+------+--------+--------+--------+----------+-----+----+------+----------+-----------+-----------+-----+------+----+----------------------+---------+--------+\n",
            "|baoChe|chuY|congTyDk                                         |congTySx                                         |congTySxCode|diaChiDk                                 |diaChiSx                                 |dongGoi                                      |dotPheDuyet|giaKeKhai|hieuLuc|hoatChat                                |huongDanSuDung|huongDanSuDungBn|id         |images|isHide|meta  |nhomThuoc|nongDo|nuocDk  |nuocSx  |phanLoai|pheDuyet  |rate |rows|rutSdk|rutSdkFile|soDangKy   |soQuyetDinh|state|taDuoc|ten |tenThuoc              |tieuChuan|tuoiTho |\n",
            "+------+----+-------------------------------------------------+-------------------------------------------------+------------+-----------------------------------------+-----------------------------------------+---------------------------------------------+-----------+---------+-------+----------------------------------------+--------------+----------------+-----------+------+------+------+---------+------+--------+--------+--------+----------+-----+----+------+----------+-----------+-----------+-----+------+----+----------------------+---------+--------+\n",
            "|      |null|Công ty cổ phần dược phẩm Trung ương 1 - Pharbaco|Công ty cổ phần dược phẩm Trung ương 1 - Pharbaco|PHARBACO    |160 - Tôn Đức Thắng - Đống Đa - Hà Nội   |160 - Tôn Đức Thắng - Đống Đa - Hà Nội   |Hộp 2 vỉ x 7 viên                            |119        |null     |null   |amoxicilin  500mg, acid clavulanic 125mg|null          |null            |VD-10418-10|[]    |Yes   |{null}|Tân dược |      |Việt Nam|Việt Nam|null    |24/02/2010|018.5|[]  |0     |[]        |VD-10418-10|42/QĐ-QLD  |202  |null  |null|Amogentine 500mg/125mg|TCCS     |24 tháng|\n",
            "|      |null|Công ty cổ phần dược phẩm Trung ương 1 - Pharbaco|Công ty cổ phần dược phẩm Trung ương 1 - Pharbaco|PHARBACO    |160 - Tôn Đức Thắng - Đống Đa - Hà Nội   |160 - Tôn Đức Thắng - Đống Đa - Hà Nội   |Hộp 3 vỉ x 4 viên nén dài bao phim           |119        |null     |null   |levofloxacin 250mg                      |null          |null            |VD-10419-10|[]    |Yes   |{null}|Tân dược |      |Việt Nam|Việt Nam|null    |24/02/2010|005.0|[]  |0     |[]        |VD-10419-10|42/QĐ-QLD  |202  |null  |null|PQAlevo               |TCCS     |36 tháng|\n",
            "|      |null|Công ty cổ phần dược phẩm Trung ương 3.          |Công ty cổ phần dược phẩm Trung ương 3.          |FORIPHARM   |Xã Nam Sơn, huyện An Dương, Tp. Hải Phòng|Xã Nam Sơn, huyện An Dương, Tp. Hải Phòng|Lọ 100 viên, 250 viên nén                    |119        |null     |null   |Berberin clorid 0,01g                   |null          |null            |VD-10420-10|[]    |Yes   |{null}|Tân dược |      |Việt Nam|Việt Nam|null    |24/02/2010|005.0|[]  |0     |[]        |VD-10420-10|42/QĐ-QLD  |202  |null  |null|Berberin 0,01g        |DĐVN 3   |24 tháng|\n",
            "|      |null|Công ty cổ phần dược phẩm Trung ương 3.          |Công ty cổ phần dược phẩm Trung ương 3.          |FORIPHARM   |Xã Nam Sơn, huyện An Dương, Tp. Hải Phòng|Xã Nam Sơn, huyện An Dương, Tp. Hải Phòng|Hộp 5 vỉ, 10 vỉ, 50 vỉ x 10 viên nén bao phim|119        |null     |null   |Berberin clorid 0,05g                   |null          |null            |VD-10421-10|[]    |Yes   |{null}|Tân dược |      |Việt Nam|Việt Nam|null    |24/02/2010|005.0|[]  |0     |[]        |VD-10421-10|42/QĐ-QLD  |202  |null  |null|Berberin 0,05g        |TCCS     |36 tháng|\n",
            "|      |null|Công ty cổ phần dược phẩm Trung ương 3.          |Công ty cổ phần dược phẩm Trung ương 3.          |FORIPHARM   |Xã Nam Sơn, huyện An Dương, Tp. Hải Phòng|Xã Nam Sơn, huyện An Dương, Tp. Hải Phòng|Hộp 10 vỉ x 10 viên nang                     |119        |null     |null   |Doxycyclin hydroclorid 100mg            |null          |null            |VD-10422-10|[]    |Yes   |{null}|Tân dược |      |Việt Nam|Việt Nam|null    |24/02/2010|005.0|[]  |0     |[]        |VD-10422-10|42/QĐ-QLD  |202  |null  |null|Doxycyclin TW3 100 mg |DĐVN 3   |24 tháng|\n",
            "+------+----+-------------------------------------------------+-------------------------------------------------+------------+-----------------------------------------+-----------------------------------------+---------------------------------------------+-----------+---------+-------+----------------------------------------+--------------+----------------+-----------+------+------+------+---------+------+--------+--------+--------+----------+-----+----+------+----------+-----------+-----------+-----+------+----+----------------------+---------+--------+\n",
            "only showing top 5 rows\n",
            "\n"
          ]
        }
      ]
    },
    {
      "cell_type": "code",
      "source": [
        "# print(th.count())\n",
        "# th.select('soDangKy').distinct().count()"
      ],
      "metadata": {
        "colab": {
          "base_uri": "https://localhost:8080/"
        },
        "id": "P36hrzHrnXjX",
        "outputId": "b60e6085-5823-4cba-e111-337525b44b6f"
      },
      "execution_count": null,
      "outputs": [
        {
          "output_type": "stream",
          "name": "stdout",
          "text": [
            "38945\n"
          ]
        },
        {
          "output_type": "execute_result",
          "data": {
            "text/plain": [
              "38945"
            ]
          },
          "metadata": {},
          "execution_count": 109
        }
      ]
    }
  ],
  "metadata": {
    "colab": {
      "provenance": []
    },
    "kernelspec": {
      "display_name": "Python 3",
      "name": "python3"
    },
    "language_info": {
      "codemirror_mode": {
        "name": "ipython",
        "version": 3
      },
      "file_extension": ".py",
      "mimetype": "text/x-python",
      "name": "python",
      "nbconvert_exporter": "python",
      "pygments_lexer": "ipython3",
      "version": "3.10.7"
    }
  },
  "nbformat": 4,
  "nbformat_minor": 0
}